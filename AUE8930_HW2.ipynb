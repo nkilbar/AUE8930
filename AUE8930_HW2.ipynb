{
 "cells": [
  {
   "cell_type": "code",
   "execution_count": 3,
   "id": "35c22f96",
   "metadata": {},
   "outputs": [
    {
     "name": "stdout",
     "output_type": "stream",
     "text": [
      "2002,2009,2016,2023,2037,2044,2051,2058,2072,2079,2086,2093,2107,2114,2121,2128,2142,2149,2156,2163,2177,2184,2191,2198,2212,2219,2226,2233,2247,2254,2261,2268,2282,2289,2296,2303,2317,2324,2331,2338,2352,2359,2366,2373,2387,2394,2401,2408,2422,2429,2436,2443,2457,2464,2471,2478,2492,2499,2506,2513,2527,2534,2541,2548,2562,2569,2576,2583,2597,2604,2611,2618,2632,2639,2646,2653,2667,2674,2681,2688,2702,2709,2716,2723,2737,2744,2751,2758,2772,2779,2786,2793,2807,2814,2821,2828,2842,2849,2856,2863,2877,2884,2891,2898,2912,2919,2926,2933,2947,2954,2961,2968,2982,2989,2996,3003,3017,3024,3031,3038,3052,3059,3066,3073,3087,3094,3101,3108,3122,3129,3136,3143,3157,3164,3171,3178,3192,3199\n"
     ]
    }
   ],
   "source": [
    "#Question 1: Write a program which will find all such numbers which are divisible by 7 but are not a multiple of 5, between 2000 and 3200 (both included). The numbers obtained should be printed in a comma-separated sequence on a single line.\n",
    "#Hints: Consider use range(#begin, #end) method\n",
    "\n",
    "#initialize list, start and end\n",
    "List=[]\n",
    "start=2000\n",
    "end=3200\n",
    "\n",
    "# search range (+1 to include last index)\n",
    "for i in range(start,end+1) :\n",
    "    #Check remainders for divisibility logic\n",
    "\tif i % 7 ==0 and i % 5!=0 :\n",
    "\t\tList.append(str(i)) \n",
    "print(','.join(List))\n"
   ]
  },
  {
   "cell_type": "code",
   "execution_count": 9,
   "id": "0145aff9",
   "metadata": {},
   "outputs": [
    {
     "name": "stdout",
     "output_type": "stream",
     "text": [
      "Enter factorial(s) to calculate.4\n",
      "24\n"
     ]
    }
   ],
   "source": [
    "#Question 2: Write a program which can compute the factorial of a given number. The results should be printed in a \n",
    "#comma-separated sequence on a single line. Suppose the following input is supplied to the program: 8\n",
    "#Then, the output should be: 40320\n",
    "#Hints: In case of input data being supplied to the question, it should be assumed to be a console input.\n",
    "\n",
    "def factorial(i) : \n",
    "\n",
    "\tif i == 0 :\n",
    "\t\t return 1\n",
    "\telse:\n",
    "\t\treturn i*factorial(i-1)\n",
    "\t\n",
    "# Enter numbers as a comma separated string\n",
    "numbers_str = input(\"Enter factorial(s) to calculate.\")\n",
    "\n",
    "# Convert the input string to a list of numbers\n",
    "numbers = [int(number) for number in numbers_str.split(\",\")]\n",
    "            \n",
    "# Compute the factorial of each number\n",
    "factorials = [factorial(i) for i in numbers] \n",
    "# Print the results in a comma-separated sequence on a single line. \n",
    "print(\",\".join([str(factorial) for factorial in factorials]))\n"
   ]
  },
  {
   "cell_type": "code",
   "execution_count": 12,
   "id": "07a9ae56",
   "metadata": {},
   "outputs": [
    {
     "name": "stdout",
     "output_type": "stream",
     "text": [
      "8\n",
      "{1: 1, 2: 4, 3: 9, 4: 16, 5: 25, 6: 36, 7: 49, 8: 64}\n"
     ]
    }
   ],
   "source": [
    "#Question 3: With a given integral number n, write a program to generate a dictionary that contains (i, i*i) such that is an \n",
    "#integral number between 1 and n (both included). and then the program should print the dictionary. Suppose the following \n",
    "#input is supplied to the program: 8 Then, the output should be: {1: 1, 2: 4, 3: 9, 4: 16, 5: 25, 6: 36, 7: 49, 8: 64}\n",
    "#Hints: In case of input data being supplied to the question, it should be assumed to be a console input. Consider use dict()\n",
    "\n",
    "#Convert input to an integer immediately\n",
    "n=int(input())\n",
    "# establish dictionary\n",
    "kv=dict()\n",
    "# Populate values in for loop, keys populate themselves from index\n",
    "for i in range(1,n+1) :\n",
    "\tkv[i]=i*i\n",
    "print(kv)\n"
   ]
  },
  {
   "cell_type": "code",
   "execution_count": 13,
   "id": "5cf43e66",
   "metadata": {},
   "outputs": [
    {
     "name": "stdout",
     "output_type": "stream",
     "text": [
      "Enter a sequence of comma-separated numbers34,67,55,33,12,98\n",
      "[34, 67, 55, 33, 12, 98]\n",
      "(34, 67, 55, 33, 12, 98)\n"
     ]
    }
   ],
   "source": [
    "# Question 4: Write a program which accepts a sequence of comma-separated numbers from console and generate a list and a tuple \n",
    "#which contains every number. Suppose the following input is supplied to the program:\n",
    "#34,67,55,33,12,98\n",
    "#Then, the output should be: ['34', '67', '55', '33', '12', '98']\n",
    "#('34', '67', '55', '33', '12', '98')\n",
    "\n",
    "#Hints: In case of input data being supplied to the question, it should be assumed to be a console input. \n",
    "#tuple() method can convert list to tuple\n",
    "\n",
    "num=input(\"Enter a sequence of comma-separated numbers\")\n",
    "\n",
    "# Convert the input string to a list of numbers, splitting by commas\n",
    "li = [int(lnum) for lnum in num.split(\",\")]\n",
    "tu=tuple(li)\n",
    "\n",
    "print(li)\n",
    "print(tu)"
   ]
  },
  {
   "cell_type": "code",
   "execution_count": 29,
   "id": "aa02c8eb",
   "metadata": {},
   "outputs": [
    {
     "name": "stdout",
     "output_type": "stream",
     "text": [
      "Input string to test no\n",
      "NO\n"
     ]
    }
   ],
   "source": [
    "#Question 5: Define a class which has at least two methods:\n",
    "#getString: to get a string from console input\n",
    "#printString: to print the string in upper case.\n",
    "#Also please include simple test function to test the class methods.\n",
    "#Hints: Use init method to construct some parameters\n",
    "\n",
    "# define class\n",
    "class st(object) :\n",
    "    #use init method\n",
    "    def init(inp):\n",
    "        inp.s=\"\" #.s gives inp parameter string properties like upper()\n",
    "    # Get string from console input   \n",
    "    def getString(inp):\n",
    "        inp.s=input(\"Input string to test \")\n",
    "    # Print in upper case\n",
    "    def printString(inp):\n",
    "        print(inp.s.upper())\n",
    "#Test class\n",
    "fun=st()\n",
    "# Test each method\n",
    "fun.getString()\n",
    "fun.printString()"
   ]
  },
  {
   "cell_type": "code",
   "execution_count": 32,
   "id": "0f5e99f5",
   "metadata": {},
   "outputs": [
    {
     "name": "stdout",
     "output_type": "stream",
     "text": [
      "Enter input number(s)100,150,180\n",
      "18,22,24\n"
     ]
    }
   ],
   "source": [
    "#Question 6: Write a program that calculates and prints the value according to the given formula:\n",
    "#Q = Square root of [(2 * C * D)/H]\n",
    "#Following are the fixed values of C and H:\n",
    "#C is 50. H is 30.\n",
    "#D is the variable whose values should be input to your program in a comma-separated sequence.\n",
    "#Example:\n",
    "#Let us assume the following comma separated input sequence is given to the program:100,150,180\n",
    "#The output of the program should be: 18,22,24\n",
    "\n",
    "#Hints: If the output received is in decimal form, it should be rounded off to its nearest value \n",
    "#(for example, if the output received is 26.0, it should be printed as 26)\n",
    "#In case of input data being supplied to the question, it should be assumed to be a console input.\n",
    "\n",
    "import math\n",
    "C=50\n",
    "H=30\n",
    "#Initialize Q as blank list\n",
    "Q=[]\n",
    "\n",
    "Din=input(\"Enter input number(s)\")\n",
    "\n",
    "# Convert the input string to a list of numbers\n",
    "dlist = [int(num) for num in Din.split(\",\")]\n",
    "\n",
    "#Calculate and round Q for each instance\n",
    "for D in dlist :\n",
    "    # Convert input to floating point, then round to nearest integer, then convert to integer, then to string and \n",
    "    # add to output list\n",
    "    Q.append(str(int(round(math.sqrt(2*C*(float(D)/H))))))\n",
    "\n",
    "print(\",\".join(Q))\n",
    "    "
   ]
  },
  {
   "cell_type": "code",
   "execution_count": 32,
   "id": "5cba2a39",
   "metadata": {},
   "outputs": [
    {
     "name": "stdout",
     "output_type": "stream",
     "text": [
      "Enter Array Dimensions3,5\n",
      "[[0, 0, 0, 0, 0], [0, 1, 2, 3, 4], [0, 2, 4, 6, 8]]\n"
     ]
    }
   ],
   "source": [
    "# Question 7 Write a program which takes 2 digits, X,Y as input and generates a 2-dimensional array. \n",
    "#The element value in the i-th row and j-th column of the array should be i*j.\n",
    "#Note: i=0,1.., X-1; j=0,1,.., Y-1.\n",
    "#Example:Suppose the following inputs are given to the program:3,5\n",
    "#Then, the output of the program should be:\n",
    "#[[0, 0, 0, 0, 0], [0, 1, 2, 3, 4], [0, 2, 4, 6, 8]]\n",
    "#Hints: Note: In case of input data being supplied to the question, \n",
    "#it should be assumed to be a console input in a comma-separated form.\n",
    "\n",
    "dim=input(\"Enter Array Dimensions\") #Enter as string\n",
    "xy= [int(n) for n in dim.split(\",\")] # Split into separate integer values\n",
    "\n",
    "#Store dimensions as separate variables\n",
    "x=xy[0]\n",
    "y=xy[1]\n",
    "\n",
    "#initialize array where 1st column and 1st row are 0\n",
    "array = [[0 for j in range(y)] for i in range(x)]\n",
    "\n",
    "# Multiply final dimensions\n",
    "for i in range(x):\n",
    "    for j in range(y):\n",
    "        array[i][j]=i*j\n",
    "print(array)\n"
   ]
  },
  {
   "cell_type": "code",
   "execution_count": 33,
   "id": "ad5185d3",
   "metadata": {},
   "outputs": [
    {
     "name": "stdout",
     "output_type": "stream",
     "text": [
      "List words to sortwithout,hello,bag,world\n",
      "bag,hello,without,world\n"
     ]
    }
   ],
   "source": [
    "# Question 8: Write a program that accepts a comma separated sequence of words as input and prints the words in a comma-separated \n",
    "#sequence after sorting them alphabetically.\n",
    "#Suppose the following input is supplied to the program:without,hello,bag,world\n",
    "#Then, the output should be:bag,hello,without,world\n",
    "#Hints: In case of input data being supplied to the question, it should be assumed to be a console input.\n",
    "\n",
    "words=input(\"List words to sort\")\n",
    "#split by commas, keep as strings\n",
    "sep=words.split(\",\")\n",
    "# Decapitalize\n",
    "for l in range(len(sep)):\n",
    "    sep[l]=sep[l].lower()\n",
    "#sort lowercase words\n",
    "sep.sort()\n",
    "print(\",\".join(sep))\n"
   ]
  },
  {
   "cell_type": "code",
   "execution_count": 36,
   "id": "1b1ffe95",
   "metadata": {},
   "outputs": [
    {
     "name": "stdout",
     "output_type": "stream",
     "text": [
      "Enter text to capitalizeno\n",
      "Enter text to capitalize\n",
      "NO\n"
     ]
    }
   ],
   "source": [
    "#Question 9: Write a program that accepts sequence of lines as input and prints the lines after making all characters in \n",
    "#the sentence capitalized. Suppose the following input is supplied to the program:\n",
    "#Hello world \n",
    "#Practice makes perfect\n",
    "#Then, the output should be: \n",
    "#HELLO WORLD \n",
    "#PRACTICE MAKES PERFECT\n",
    "\n",
    "#initilize blank line sequence\n",
    "lc=[]\n",
    "# Loop line by line\n",
    "while True:\n",
    "    \n",
    "    line=input(\"Enter text to capitalize\")\n",
    "    \n",
    "    if line:\n",
    "        # Capitalize and store in new line sequence\n",
    "        lc.append(line.upper())\n",
    "    else: \n",
    "        break;\n",
    "# print each line after user is done entering input\n",
    "for l in lc:\n",
    "    # Print each line at a time\n",
    "    print(l)"
   ]
  },
  {
   "cell_type": "code",
   "execution_count": 37,
   "id": "5a5b8771",
   "metadata": {},
   "outputs": [
    {
     "name": "stdout",
     "output_type": "stream",
     "text": [
      "Enter words hello world and practice makes perfect and hello world again\n",
      "again and hello makes perfect practice world\n"
     ]
    }
   ],
   "source": [
    "#Question 10: Write a program that accepts a sequence of whitespace separated words as input and prints the words after removing \n",
    "#all duplicate words and sorting them alphanumerically. Suppose the following input is supplied to the program:\n",
    "#hello world and practice makes perfect and hello world again\n",
    "#Then, the output should be: again and hello makes perfect practice world\n",
    "#Hints: In case of input data being supplied to the question, it should be assumed to be a console input.\n",
    "#We use set container to remove duplicated data automatically and then use sorted() to sort the data.\n",
    "\n",
    "#Input spaced words\n",
    "inputwords=input(\"Enter words \")\n",
    "#Split words in a list\n",
    "wordlist=[word for word in inputwords.split(\" \")]\n",
    "#Remove duplicates\n",
    "wordlist=set(wordlist)\n",
    "#Convert to list for sorting\n",
    "wordlist=list(wordlist)\n",
    "#Sort\n",
    "wordlist=sorted(wordlist)\n",
    "#Print joined wordlist\n",
    "print(\" \".join(wordlist))"
   ]
  },
  {
   "cell_type": "code",
   "execution_count": 11,
   "id": "67868153",
   "metadata": {},
   "outputs": [
    {
     "name": "stdout",
     "output_type": "stream",
     "text": [
      "hi and wave\n"
     ]
    }
   ],
   "source": [
    "# Question 25: Define a class, which have a class parameter and have a same instance parameter.\n",
    "#Hints: Define a instance parameter, need add it in init method\n",
    "#You can init a object with construct parameter or set the value later\n",
    "\n",
    "class hi:\n",
    "    #Class Parameter\n",
    "    word=\"hi\"\n",
    "    \n",
    "    def __init__(greeting, word=None):\n",
    "        #Identical Instance parameter \n",
    "        greeting.word=word\n",
    "#Example\n",
    "wave=hi(\"wave\")\n",
    "#  print both paramters\n",
    "print(\"%s and %s\" % (hi.word,wave.word))\n",
    "        "
   ]
  },
  {
   "cell_type": "code",
   "execution_count": 20,
   "id": "f0cb4b4f",
   "metadata": {},
   "outputs": [
    {
     "name": "stdout",
     "output_type": "stream",
     "text": [
      "0\n",
      "1\n",
      "4\n",
      "9\n",
      "16\n",
      "25\n",
      "36\n",
      "49\n",
      "64\n",
      "81\n",
      "100\n",
      "121\n",
      "144\n",
      "169\n",
      "196\n",
      "225\n",
      "256\n",
      "289\n",
      "324\n",
      "361\n",
      "400\n"
     ]
    }
   ],
   "source": [
    "#Question 35 Define a function which can generate a dictionary where the keys are numbers between 1 and 20 (both included) \n",
    "#and the values are square of keys. The function should just print the values only.\n",
    "#Hints: Use dict[key]=value pattern to put entry into a dictionary.\n",
    "#Use ** operator to get power of a number.\n",
    "#Use range() for loops.\n",
    "#Use keys() to iterate keys in the dictionary. Also we can use item() to get key/valuepairs\n",
    "\n",
    "#Define function\n",
    "def val():\n",
    "    #Define dictionary\n",
    "    twenty=dict()\n",
    "    #Calculate each value\n",
    "    for i in range(0,21): #include 20\n",
    "        twenty[i]=i**2\n",
    "    for value in twenty.values() : \n",
    "        print(value)\n",
    "# RUN IT\n",
    "val()"
   ]
  },
  {
   "cell_type": "code",
   "execution_count": 21,
   "id": "c183fc88",
   "metadata": {},
   "outputs": [
    {
     "name": "stdout",
     "output_type": "stream",
     "text": [
      "0\n",
      "1\n",
      "2\n",
      "3\n",
      "4\n",
      "5\n",
      "6\n",
      "7\n",
      "8\n",
      "9\n",
      "10\n",
      "11\n",
      "12\n",
      "13\n",
      "14\n",
      "15\n",
      "16\n",
      "17\n",
      "18\n",
      "19\n",
      "20\n"
     ]
    }
   ],
   "source": [
    "#Question 36: Define a function which can generate a dictionary where the keys are numbers between 1 and 20 (both included) and \n",
    "#the values are square of keys. The function should just print the keys only.\n",
    "#Hints: Use dict[key]=value pattern to put entry into a dictionary.\n",
    "#Use ** operator to get power of a number.\n",
    "#Use range() for loops.\n",
    "#Use keys() to iterate keys in the dictionary. Also we can use item() to get key/value pairs\n",
    "\n",
    "#Define function\n",
    "def val():\n",
    "    #Define dictionary\n",
    "    twenty=dict()\n",
    "    #Calculate each value\n",
    "    for i in range(0,21):\n",
    "        twenty[i]=i**2\n",
    "    # Print keys only\n",
    "    for value in twenty.keys() : \n",
    "        print(value)\n",
    "val()"
   ]
  },
  {
   "cell_type": "code",
   "execution_count": 22,
   "id": "9ca55be8",
   "metadata": {},
   "outputs": [
    {
     "name": "stdout",
     "output_type": "stream",
     "text": [
      "[0, 1, 4, 9, 16, 25, 36, 49, 64, 81, 100, 121, 144, 169, 196, 225, 256, 289, 324, 361, 400]\n"
     ]
    }
   ],
   "source": [
    "# Question 37 Define a function which can generate and print a list where the values are square of numbers between 1 and 20 \n",
    "#(both included).Hints: Use ** operator to get power of a number. Use range() for loops.\n",
    "#Use list.append() to add values into a list.\n",
    "\n",
    "#Define function\n",
    "def val():\n",
    "    #Define empty list\n",
    "    twenty=list()\n",
    "    #Calculate each value\n",
    "    for i in range(0,21):\n",
    "        twenty.append(i**2)\n",
    "    print(twenty)\n",
    "val()"
   ]
  },
  {
   "cell_type": "code",
   "execution_count": 50,
   "id": "d163521f",
   "metadata": {},
   "outputs": [
    {
     "name": "stdout",
     "output_type": "stream",
     "text": [
      "(2, 4, 6, 8, 10)\n"
     ]
    }
   ],
   "source": [
    "#Question 43: Write a program to generate and print another tuple whose values are even numbers in the given tuple \n",
    "#(1,2,3,4,5,6,7,8,9,10). Hints: Use \"for\" to iterate the tuple\n",
    "#Use tuple() to generate a tuple from a list.\n",
    "\n",
    "#Given tuple\n",
    "p=(1,2,3,4,5,6,7,8,9,10)\n",
    "\n",
    "collect=list() # empty list\n",
    "\n",
    "#Loop through tuple to pick even numbers\n",
    "for i in p:\n",
    "    #Divisible by 2?\n",
    "    if i%2==0:\n",
    "        #if yes, add to list\n",
    "        collect.append(i)\n",
    "#Convert list to tuple\n",
    "evens=tuple(collect)\n",
    "print(evens)"
   ]
  },
  {
   "cell_type": "code",
   "execution_count": 40,
   "id": "ff5f4d4a",
   "metadata": {},
   "outputs": [
    {
     "name": "stdout",
     "output_type": "stream",
     "text": [
      "freedom\n",
      "traffic\n",
      "<__main__.American object at 0x000001CF9FADC1D0>\n",
      "<__main__.NewYorker object at 0x000001CF9FADD390>\n"
     ]
    }
   ],
   "source": [
    "#Question 51 Define a class named American and its subclass NewYorker.\n",
    "#Hints: Use class Subclass(ParentClass) to define a subclass\n",
    "\n",
    "class American():\n",
    "    print(\"freedom\")\n",
    "class NewYorker(American):\n",
    "    print(\"traffic\")\n",
    "# Try an example\n",
    "AA=American()\n",
    "NY=NewYorker()\n",
    "print(AA)\n",
    "print(NY)"
   ]
  },
  {
   "cell_type": "code",
   "execution_count": 15,
   "id": "83afcea7",
   "metadata": {},
   "outputs": [
    {
     "name": "stdout",
     "output_type": "stream",
     "text": [
      "<bound method Rectangle.ar of <__main__.Rectangle object at 0x000001CF9F3D0650>>\n"
     ]
    }
   ],
   "source": [
    "#Question 53 Define a class named Rectangle which can be constructed by a length and width. The Rectangle class has a method \n",
    "#which can compute the area.\n",
    "#Hints: Use def methodName(self) to define a method.\n",
    "\n",
    "#Define class\n",
    "class Rectangle(object): \n",
    "    #Define length and width with init method\n",
    "    def __init__(self,le,wi):\n",
    "        self.length=le\n",
    "        self.width=wi\n",
    "    #Compute the area\n",
    "    def ar(self):\n",
    "        return self.length*self.width\n",
    "#test with dimensions\n",
    "l=10\n",
    "w=2\n",
    "rec=Rectangle(l,w)\n",
    "print(rec.ar)\n",
    "    "
   ]
  },
  {
   "cell_type": "code",
   "execution_count": 20,
   "id": "b300f5be",
   "metadata": {},
   "outputs": [
    {
     "name": "stdout",
     "output_type": "stream",
     "text": [
      "0\n",
      "4\n"
     ]
    }
   ],
   "source": [
    "# Question 54 Define a class named Shape and its subclass Square. The Square class has an init function which takes a length \n",
    "# as argument. Both classes have a area function which can print the area of the shape where Shape's area is 0 by default.\n",
    "# Hints: To override a method in super class, we can define a method with the same name in the super class.\n",
    "\n",
    "class Shape(object):\n",
    "    # Init superclass constructor with init\n",
    "    def __init__(self):\n",
    "        pass\n",
    "    # Area = 0 by default\n",
    "    def sarea(self):\n",
    "        return 0\n",
    "    \n",
    "class Square(Shape):\n",
    "    # function takes length as an argument\n",
    "    def __init__(self, length):\n",
    "        super().__init__()  # Call the constructor of the superclass (Shape)\n",
    "        self.length = length\n",
    "    # Calculate area\n",
    "    def sarea(self):\n",
    "        return self.length ** 2  \n",
    "#Test both classes\n",
    "s=Shape()\n",
    "print(s.sarea()) #Should be 0\n",
    "s=Square(2)\n",
    "print(s.sarea()) #should be 4"
   ]
  },
  {
   "cell_type": "code",
   "execution_count": 51,
   "id": "bcd9f6fd",
   "metadata": {},
   "outputs": [
    {
     "name": "stdout",
     "output_type": "stream",
     "text": [
      "Cannot divide by zero\n",
      "Collected in final block\n"
     ]
    }
   ],
   "source": [
    "# Question 56: Write a function to compute 5/0 and use try/except to catch the exceptions.\n",
    "# Hints: Use try/except to catch exceptions\n",
    "\n",
    "#Define basic function\n",
    "def fiveo():\n",
    "    return 5/0\n",
    "# Enter try/except loop  \n",
    "try: \n",
    "    fiveo()\n",
    "except ZeroDivisionError:\n",
    "    print(\"Cannot divide by zero\")\n",
    "except Exception as err:\n",
    "    print(\"Exception caught\")\n",
    "finally:\n",
    "    print(\"Collected in final block\")"
   ]
  },
  {
   "cell_type": "code",
   "execution_count": 48,
   "id": "ca17b590",
   "metadata": {},
   "outputs": [
    {
     "name": "stdout",
     "output_type": "stream",
     "text": [
      "[12, 24, 35, 88, 120, 155]\n"
     ]
    }
   ],
   "source": [
    "# 94 With a given list [12,24,35,24,88,120,155,88,120,155], write a program to print this list after removing all duplicate \n",
    "# values with original order reserved.\n",
    "# Hints: Use set() to store a number of values without duplicate.\n",
    "\n",
    "# Given List\n",
    "gl=[12,24,35,24,88,120,155,88,120,155]\n",
    "# Initiate new list\n",
    "new=[]\n",
    "#Establish a blank set (unordered collection of unique elements)\n",
    "reset=set()\n",
    "# Loop through given list to populate new list while preserving order\n",
    "for l in gl:\n",
    "    if l not in reset:\n",
    "        # Add to reset list for tracking appearance\n",
    "        reset.add(l)\n",
    "        # Add to new list\n",
    "        new.append(l)\n",
    "print(new)"
   ]
  },
  {
   "cell_type": "code",
   "execution_count": null,
   "id": "b6cdc650",
   "metadata": {},
   "outputs": [],
   "source": []
  }
 ],
 "metadata": {
  "kernelspec": {
   "display_name": "Python 3 (ipykernel)",
   "language": "python",
   "name": "python3"
  },
  "language_info": {
   "codemirror_mode": {
    "name": "ipython",
    "version": 3
   },
   "file_extension": ".py",
   "mimetype": "text/x-python",
   "name": "python",
   "nbconvert_exporter": "python",
   "pygments_lexer": "ipython3",
   "version": "3.11.4"
  }
 },
 "nbformat": 4,
 "nbformat_minor": 5
}
